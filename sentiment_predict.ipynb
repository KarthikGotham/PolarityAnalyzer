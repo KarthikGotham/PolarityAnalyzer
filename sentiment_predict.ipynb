{
 "cells": [
  {
   "cell_type": "code",
   "execution_count": 2,
   "metadata": {
    "collapsed": false
   },
   "outputs": [],
   "source": [
    "from pandas import DataFrame as data_frame\n",
    "from bcolz import open as bcolz_open\n",
    "from json import load as json_load\n",
    "from bs4 import BeautifulSoup\n",
    "from numpy import array\n",
    "from pickle import load\n",
    "from re import sub\n",
    "import nltk.data\n",
    "\n",
    "glove_path = 'C:\\\\Users\\\\Karthik\\\\Desktop\\\\sentiment_analysis\\\\imdb\\\\glove\\\\'"
   ]
  },
  {
   "cell_type": "code",
   "execution_count": 3,
   "metadata": {
    "collapsed": true
   },
   "outputs": [],
   "source": [
    "from tensorflow.python.keras.models import load_model\n",
    "from tensorflow.python.keras._impl.keras.optimizers import Adam\n",
    "from tensorflow.python.keras._impl.keras.preprocessing import sequence"
   ]
  },
  {
   "cell_type": "code",
   "execution_count": 4,
   "metadata": {
    "collapsed": false
   },
   "outputs": [],
   "source": [
    "#Load the vectors from GloVe\n",
    "vecs = bcolz_open(glove_path+ 'glove.6B.50d.dat')[:]\n",
    "words = load(open(glove_path+'glove.6B.50d_words.pkl','rb'))\n",
    "wordidx = load(open(glove_path+'glove.6B.50d_idx.pkl','rb'))"
   ]
  },
  {
   "cell_type": "code",
   "execution_count": 5,
   "metadata": {
    "collapsed": false
   },
   "outputs": [],
   "source": [
    "#User Defined function to retrieve Word Vector\n",
    "def w2v(w): return vecs[wordidx[w]]"
   ]
  },
  {
   "cell_type": "code",
   "execution_count": 6,
   "metadata": {
    "collapsed": false
   },
   "outputs": [],
   "source": [
    "def review_to_wordlist(review):\n",
    "    review_text = BeautifulSoup(review, \"lxml\").get_text()\n",
    "    review_text = sub(\"[^a-zA-Z\\-]\",\" \", review_text)\n",
    "    words = review_text.lower().split()\n",
    "    words += '.'\n",
    "    return(words)"
   ]
  },
  {
   "cell_type": "code",
   "execution_count": 7,
   "metadata": {
    "collapsed": false
   },
   "outputs": [],
   "source": [
    "#punkt tokenizer for sentence splitting\n",
    "#nltk.download()   \n",
    "tokenizer = nltk.data.load('tokenizers/punkt/english.pickle')\n",
    "\n",
    "def review_to_sentences( review, tokenizer):\n",
    "    raw_sentences = tokenizer.tokenize(review.strip())\n",
    "    sentences = []\n",
    "    for raw_sentence in raw_sentences:\n",
    "        if len(raw_sentence) > 0:\n",
    "            sentences.append(review_to_wordlist(raw_sentence))\n",
    "    return sentences"
   ]
  },
  {
   "cell_type": "code",
   "execution_count": 7,
   "metadata": {
    "collapsed": false
   },
   "outputs": [],
   "source": [
    "with open(r'C:\\Users\\Karthik\\Desktop\\sentiment_analysis\\imdb\\idx.json') as f:\n",
    "    idx = json_load(f)"
   ]
  },
  {
   "cell_type": "code",
   "execution_count": 8,
   "metadata": {
    "collapsed": true
   },
   "outputs": [],
   "source": [
    "idx2word = {v: k for k, v in idx.items()}"
   ]
  },
  {
   "cell_type": "code",
   "execution_count": 9,
   "metadata": {
    "collapsed": false
   },
   "outputs": [],
   "source": [
    "seq_len = 1500"
   ]
  },
  {
   "cell_type": "code",
   "execution_count": 10,
   "metadata": {
    "collapsed": true
   },
   "outputs": [],
   "source": [
    "vocab_size = 15000"
   ]
  },
  {
   "cell_type": "code",
   "execution_count": 11,
   "metadata": {
    "collapsed": false
   },
   "outputs": [],
   "source": [
    "#Should EoS-'period' be handled here or within the rev2sentnc func?\n",
    "def reformat_dataset_list_of_words(dataset):\n",
    "    X_revw_indx = []\n",
    "    X_reviews = []\n",
    "    for record in dataset:\n",
    "        review=[]\n",
    "        indices = []\n",
    "        sentences = []\n",
    "        sentences += review_to_sentences(record, tokenizer)\n",
    "        for sentence in sentences:\n",
    "            for word in sentence:\n",
    "                review.append(word)\n",
    "                indices.append(idx[word])\n",
    "        X_reviews.append(review)\n",
    "        X_revw_indx.append(indices)\n",
    "    return X_reviews, X_revw_indx\n"
   ]
  },
  {
   "cell_type": "code",
   "execution_count": 12,
   "metadata": {
    "collapsed": true
   },
   "outputs": [],
   "source": [
    "model_path = \"C:\\\\Users\\\\Karthik\\\\Desktop\\\\sentiment_analysis\\\\imdb\\\\\""
   ]
  },
  {
   "cell_type": "code",
   "execution_count": 13,
   "metadata": {
    "collapsed": false
   },
   "outputs": [],
   "source": [
    "model = load_model(\n",
    "    filepath = model_path+'cnn_model_glove50.h5',\n",
    "    custom_objects=None,\n",
    "    compile=True\n",
    ")"
   ]
  },
  {
   "cell_type": "code",
   "execution_count": 14,
   "metadata": {
    "collapsed": false
   },
   "outputs": [],
   "source": [
    "model.load_weights(\n",
    "    filepath = model_path+\"kg_glove50_1.h5\",\n",
    "    by_name=False\n",
    ")"
   ]
  },
  {
   "cell_type": "code",
   "execution_count": 15,
   "metadata": {
    "collapsed": false
   },
   "outputs": [],
   "source": [
    "model.compile(loss='binary_crossentropy', optimizer=Adam(), metrics=['accuracy'])"
   ]
  },
  {
   "cell_type": "code",
   "execution_count": 16,
   "metadata": {
    "collapsed": true
   },
   "outputs": [],
   "source": [
    "input_text = \"One stock that might be an intriguing choice for investors right now is Marathon Oil Corporation. This is because this security in the Oil and Gas - integrated - United States space is seeing bad earnings estimate revision activity, and is from Industry Rank perspective.\"\n"
   ]
  },
  {
   "cell_type": "code",
   "execution_count": 17,
   "metadata": {
    "collapsed": false
   },
   "outputs": [],
   "source": [
    "X=data_frame({'review':[input_text]})\n",
    "_, X_revw_indx = reformat_dataset_list_of_words(X['review'])\n",
    "X_test = [array([i if i<vocab_size-1 else vocab_size-1 for i in s]) for s in X_revw_indx]\n",
    "X_test = sequence.pad_sequences(X_test, maxlen=seq_len, value=0)\n",
    "pred = model.predict(\n",
    "    X_test,\n",
    "    batch_size=None,\n",
    "    verbose=0\n",
    ")"
   ]
  },
  {
   "cell_type": "code",
   "execution_count": null,
   "metadata": {
    "collapsed": false,
    "scrolled": true
   },
   "outputs": [
    {
     "data": {
      "text/plain": [
       "array([[ 0.38903007]], dtype=float32)"
      ]
     },
     "execution_count": 18,
     "metadata": {},
     "output_type": "execute_result"
    }
   ],
   "source": [
    "pred"
   ]
  },
  {
   "cell_type": "code",
   "execution_count": null,
   "metadata": {
    "collapsed": false
   },
   "outputs": [
    {
     "name": "stdout",
     "output_type": "stream",
     "text": [
      "Please enter a review:\n",
      "dumb\n",
      "Sentiment score:\n",
      " [[ 0.23291089]]\n",
      "Please enter a review:\n",
      "foul\n",
      "Sentiment score:\n",
      " [[ 0.25694355]]\n",
      "Please enter a review:\n",
      "profit\n",
      "Sentiment score:\n",
      " [[ 0.47700569]]\n",
      "Please enter a review:\n",
      "loss\n",
      "Sentiment score:\n",
      " [[ 0.2344418]]\n"
     ]
    }
   ],
   "source": [
    "while(True):\n",
    "    input_text = input(\"Please enter a review:\\n\")\n",
    "    if input_text == \"q!\":\n",
    "        break\n",
    "    X=data_frame({'review':[input_text]})\n",
    "    _, X_revw_indx = reformat_dataset_list_of_words(X['review'])\n",
    "    X_test = [array([i if i<vocab_size-1 else vocab_size-1 for i in s]) for s in X_revw_indx]\n",
    "    X_test = sequence.pad_sequences(X_test, maxlen=seq_len, value=0)\n",
    "    pred = model.predict(\n",
    "        X_test,\n",
    "        batch_size=None,\n",
    "        verbose=0\n",
    "    )\n",
    "    print(\"Sentiment score:\\n\", pred)\n",
    "    "
   ]
  },
  {
   "cell_type": "code",
   "execution_count": null,
   "metadata": {
    "collapsed": true
   },
   "outputs": [],
   "source": []
  }
 ],
 "metadata": {
  "kernelspec": {
   "display_name": "Python 3",
   "language": "python",
   "name": "python3"
  },
  "language_info": {
   "codemirror_mode": {
    "name": "ipython",
    "version": 3
   },
   "file_extension": ".py",
   "mimetype": "text/x-python",
   "name": "python",
   "nbconvert_exporter": "python",
   "pygments_lexer": "ipython3",
   "version": "3.6.0"
  }
 },
 "nbformat": 4,
 "nbformat_minor": 2
}
